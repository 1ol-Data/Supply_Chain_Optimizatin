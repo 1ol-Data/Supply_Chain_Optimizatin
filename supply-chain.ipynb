{
 "cells": [
  {
   "cell_type": "code",
   "execution_count": 1,
   "id": "c986c797",
   "metadata": {
    "execution": {
     "iopub.execute_input": "2024-02-22T19:47:21.385173Z",
     "iopub.status.busy": "2024-02-22T19:47:21.384354Z",
     "iopub.status.idle": "2024-02-22T19:47:22.620723Z",
     "shell.execute_reply": "2024-02-22T19:47:22.618785Z"
    },
    "papermill": {
     "duration": 1.24609,
     "end_time": "2024-02-22T19:47:22.623343",
     "exception": false,
     "start_time": "2024-02-22T19:47:21.377253",
     "status": "completed"
    },
    "tags": []
   },
   "outputs": [],
   "source": [
    "import pandas as pd\n",
    "from pulp import *"
   ]
  },
  {
   "cell_type": "markdown",
   "id": "1ff24d66",
   "metadata": {
    "papermill": {
     "duration": 0.003697,
     "end_time": "2024-02-22T19:47:22.631574",
     "exception": false,
     "start_time": "2024-02-22T19:47:22.627877",
     "status": "completed"
    },
    "tags": []
   },
   "source": [
    "# Manufacturing Variable Costs "
   ]
  },
  {
   "cell_type": "code",
   "execution_count": 2,
   "id": "7109e634",
   "metadata": {
    "execution": {
     "iopub.execute_input": "2024-02-22T19:47:22.641887Z",
     "iopub.status.busy": "2024-02-22T19:47:22.640893Z",
     "iopub.status.idle": "2024-02-22T19:47:23.119051Z",
     "shell.execute_reply": "2024-02-22T19:47:23.117730Z"
    },
    "papermill": {
     "duration": 0.487519,
     "end_time": "2024-02-22T19:47:23.123036",
     "exception": false,
     "start_time": "2024-02-22T19:47:22.635517",
     "status": "completed"
    },
    "tags": []
   },
   "outputs": [
    {
     "name": "stdout",
     "output_type": "stream",
     "text": [
      "                         USA  Germany  Japan  Brazil  India\n",
      "Variable Costs ($/Unit)                                    \n",
      "USA                       12       12     12      12     12\n",
      "Germany                   13       13     13      13     13\n",
      "Japan                     10       10     10      10     10\n",
      "Brazil                     8        8      8       8      8\n",
      "India                      5        5      5       5      5\n"
     ]
    }
   ],
   "source": [
    "# Import Costs\n",
    "mvc = pd.read_excel(\"/kaggle/input/supplycchain/variable_costs.xlsx\", index_col = 0)\n",
    "print(mvc)"
   ]
  },
  {
   "cell_type": "markdown",
   "id": "4e3fed2e",
   "metadata": {
    "papermill": {
     "duration": 0.003794,
     "end_time": "2024-02-22T19:47:23.131523",
     "exception": false,
     "start_time": "2024-02-22T19:47:23.127729",
     "status": "completed"
    },
    "tags": []
   },
   "source": [
    "#  Freight Costs"
   ]
  },
  {
   "cell_type": "code",
   "execution_count": 3,
   "id": "c479c9d7",
   "metadata": {
    "execution": {
     "iopub.execute_input": "2024-02-22T19:47:23.141651Z",
     "iopub.status.busy": "2024-02-22T19:47:23.140998Z",
     "iopub.status.idle": "2024-02-22T19:47:23.167275Z",
     "shell.execute_reply": "2024-02-22T19:47:23.165703Z"
    },
    "papermill": {
     "duration": 0.034162,
     "end_time": "2024-02-22T19:47:23.169667",
     "exception": false,
     "start_time": "2024-02-22T19:47:23.135505",
     "status": "completed"
    },
    "tags": []
   },
   "outputs": [
    {
     "name": "stdout",
     "output_type": "stream",
     "text": [
      "                               USA  Germany  Japan  Brazil  India\n",
      "Freight Costs ($/Container)                                      \n",
      "USA                              0    12250   1100   16100   8778\n",
      "Germany                      13335        0   8617   20244  10073\n",
      "Japan                        15400    22750      0   43610  14350\n",
      "Brazil                       16450    22050  28000       0  29750\n",
      "India                        13650    15400  24500   29400      0\n"
     ]
    }
   ],
   "source": [
    "# Import Costs\n",
    "fc = pd.read_excel(\"/kaggle/input/supplycchain/freight_costs.xlsx\", index_col = 0)\n",
    "print(fc)"
   ]
  },
  {
   "cell_type": "markdown",
   "id": "9189ae94",
   "metadata": {
    "papermill": {
     "duration": 0.003863,
     "end_time": "2024-02-22T19:47:23.177865",
     "exception": false,
     "start_time": "2024-02-22T19:47:23.174002",
     "status": "completed"
    },
    "tags": []
   },
   "source": [
    "# Variable Costs"
   ]
  },
  {
   "cell_type": "code",
   "execution_count": 4,
   "id": "1ec4da6b",
   "metadata": {
    "execution": {
     "iopub.execute_input": "2024-02-22T19:47:23.188956Z",
     "iopub.status.busy": "2024-02-22T19:47:23.188358Z",
     "iopub.status.idle": "2024-02-22T19:47:23.200725Z",
     "shell.execute_reply": "2024-02-22T19:47:23.198441Z"
    },
    "papermill": {
     "duration": 0.022127,
     "end_time": "2024-02-22T19:47:23.204203",
     "exception": false,
     "start_time": "2024-02-22T19:47:23.182076",
     "status": "completed"
    },
    "tags": []
   },
   "outputs": [
    {
     "name": "stdout",
     "output_type": "stream",
     "text": [
      "                                USA  Germany   Japan  Brazil   India\n",
      "Freight Costs ($/Container)                                         \n",
      "USA                          12.000    24.25  13.100  28.100  20.778\n",
      "Germany                      26.335    13.00  21.617  33.244  23.073\n",
      "Japan                        25.400    32.75  10.000  53.610  24.350\n",
      "Brazil                       24.450    30.05  36.000   8.000  37.750\n",
      "India                        18.650    20.40  29.500  34.400   5.000\n"
     ]
    }
   ],
   "source": [
    "# Variable Costs\n",
    "variable_cost = fc/1000 + mvc\n",
    "\n",
    "print(variable_cost)"
   ]
  },
  {
   "cell_type": "markdown",
   "id": "e22352ea",
   "metadata": {
    "papermill": {
     "duration": 0.003732,
     "end_time": "2024-02-22T19:47:23.212474",
     "exception": false,
     "start_time": "2024-02-22T19:47:23.208742",
     "status": "completed"
    },
    "tags": []
   },
   "source": [
    "# Fixed Costs"
   ]
  },
  {
   "cell_type": "code",
   "execution_count": 5,
   "id": "5ed9ed9b",
   "metadata": {
    "execution": {
     "iopub.execute_input": "2024-02-22T19:47:23.222677Z",
     "iopub.status.busy": "2024-02-22T19:47:23.221757Z",
     "iopub.status.idle": "2024-02-22T19:47:23.248576Z",
     "shell.execute_reply": "2024-02-22T19:47:23.246648Z"
    },
    "papermill": {
     "duration": 0.035064,
     "end_time": "2024-02-22T19:47:23.251616",
     "exception": false,
     "start_time": "2024-02-22T19:47:23.216552",
     "status": "completed"
    },
    "tags": []
   },
   "outputs": [
    {
     "name": "stdout",
     "output_type": "stream",
     "text": [
      "          Low  High\n",
      "USA      6500  9500\n",
      "Germany  4980  7270\n",
      "Japan    6230  9100\n",
      "Brazil   3230  4730\n",
      "India    2110  6160\n"
     ]
    }
   ],
   "source": [
    "# Import Costs\n",
    "fixed_costs = pd.read_excel(\"/kaggle/input/supplycchain/fixed_cost.xlsx\", index_col = 0)\n",
    "print(fixed_costs)"
   ]
  },
  {
   "cell_type": "markdown",
   "id": "bec433ca",
   "metadata": {
    "papermill": {
     "duration": 0.003884,
     "end_time": "2024-02-22T19:47:23.260127",
     "exception": false,
     "start_time": "2024-02-22T19:47:23.256243",
     "status": "completed"
    },
    "tags": []
   },
   "source": [
    "# Plants Capacity"
   ]
  },
  {
   "cell_type": "code",
   "execution_count": 6,
   "id": "06d1397b",
   "metadata": {
    "execution": {
     "iopub.execute_input": "2024-02-22T19:47:23.271224Z",
     "iopub.status.busy": "2024-02-22T19:47:23.270565Z",
     "iopub.status.idle": "2024-02-22T19:47:23.298726Z",
     "shell.execute_reply": "2024-02-22T19:47:23.296246Z"
    },
    "papermill": {
     "duration": 0.037535,
     "end_time": "2024-02-22T19:47:23.301936",
     "exception": false,
     "start_time": "2024-02-22T19:47:23.264401",
     "status": "completed"
    },
    "tags": []
   },
   "outputs": [
    {
     "name": "stdout",
     "output_type": "stream",
     "text": [
      "                         Low  High\n",
      "Capacity (kUnits/month)           \n",
      "USA                      500  1500\n",
      "Germany                  500  1500\n",
      "Japan                    500  1500\n",
      "Brazil                   500  1500\n",
      "India                    500  3000\n"
     ]
    }
   ],
   "source": [
    "# Two types of plants: Low Capacity and High Capacity Plant\n",
    "cap = pd.read_excel(\"/kaggle/input/supplycchain/capacity.xlsx\", index_col = 0)\n",
    "print(cap)"
   ]
  },
  {
   "cell_type": "markdown",
   "id": "a7d2f250",
   "metadata": {
    "papermill": {
     "duration": 0.0043,
     "end_time": "2024-02-22T19:47:23.311278",
     "exception": false,
     "start_time": "2024-02-22T19:47:23.306978",
     "status": "completed"
    },
    "tags": []
   },
   "source": [
    "# Demand"
   ]
  },
  {
   "cell_type": "code",
   "execution_count": 7,
   "id": "1fbfdffa",
   "metadata": {
    "execution": {
     "iopub.execute_input": "2024-02-22T19:47:23.322779Z",
     "iopub.status.busy": "2024-02-22T19:47:23.321919Z",
     "iopub.status.idle": "2024-02-22T19:47:23.345485Z",
     "shell.execute_reply": "2024-02-22T19:47:23.343546Z"
    },
    "papermill": {
     "duration": 0.032705,
     "end_time": "2024-02-22T19:47:23.348487",
     "exception": false,
     "start_time": "2024-02-22T19:47:23.315782",
     "status": "completed"
    },
    "tags": []
   },
   "outputs": [
    {
     "name": "stdout",
     "output_type": "stream",
     "text": [
      "                Demand\n",
      "(Units/month)         \n",
      "USA            2800000\n",
      "Germany          90000\n",
      "Japan          1700000\n",
      "Brazil          145000\n",
      "India           160000\n"
     ]
    }
   ],
   "source": [
    "demand = pd.read_excel(\"/kaggle/input/supplycchain/demand_1.xlsx\", index_col= 0)\n",
    "print(demand)"
   ]
  },
  {
   "cell_type": "markdown",
   "id": "4f3af9f3",
   "metadata": {
    "papermill": {
     "duration": 0.004229,
     "end_time": "2024-02-22T19:47:23.357856",
     "exception": false,
     "start_time": "2024-02-22T19:47:23.353627",
     "status": "completed"
    },
    "tags": []
   },
   "source": [
    "# Define Decision Variables"
   ]
  },
  {
   "cell_type": "code",
   "execution_count": 8,
   "id": "1379ffa7",
   "metadata": {
    "execution": {
     "iopub.execute_input": "2024-02-22T19:47:23.369498Z",
     "iopub.status.busy": "2024-02-22T19:47:23.368573Z",
     "iopub.status.idle": "2024-02-22T19:47:23.483942Z",
     "shell.execute_reply": "2024-02-22T19:47:23.482396Z"
    },
    "papermill": {
     "duration": 0.12499,
     "end_time": "2024-02-22T19:47:23.487259",
     "exception": false,
     "start_time": "2024-02-22T19:47:23.362269",
     "status": "completed"
    },
    "tags": []
   },
   "outputs": [
    {
     "name": "stdout",
     "output_type": "stream",
     "text": [
      "Welcome to the CBC MILP Solver \n",
      "Version: 2.10.3 \n",
      "Build Date: Dec 15 2019 \n",
      "\n",
      "command line - /opt/conda/lib/python3.10/site-packages/pulp/solverdir/cbc/linux/64/cbc /tmp/07982c86824b4dd7b81d7e555482a4d2-pulp.mps -timeMode elapsed -branch -printingOptions all -solution /tmp/07982c86824b4dd7b81d7e555482a4d2-pulp.sol (default strategy 1)\n",
      "At line 2 NAME          MODEL\n",
      "At line 3 ROWS\n",
      "At line 15 COLUMNS\n",
      "At line 131 RHS\n",
      "At line 142 BOUNDS\n",
      "At line 153 ENDATA\n",
      "Problem MODEL has 10 rows, 35 columns and 60 elements\n",
      "Coin0008I MODEL read with 0 errors\n",
      "Option for timeMode changed from cpu to elapsed\n",
      "Continuous objective value is 8.7227e+07 - 0.00 seconds\n",
      "Cgl0004I processed model has 10 rows, 35 columns (10 integer (10 of which binary)) and 60 elements\n",
      "Cbc0038I Initial state - 3 integers unsatisfied sum - 0.603333\n",
      "Cbc0038I Pass   1: suminf.    0.00000 (0) obj. 9.3579e+07 iterations 5\n",
      "Cbc0038I Solution found of 9.3579e+07\n",
      "Cbc0038I Relaxing continuous gives 9.3579e+07\n",
      "Cbc0038I Before mini branch and bound, 7 integers at bound fixed and 17 continuous\n",
      "Cbc0038I Full problem 10 rows 35 columns, reduced to 2 rows 4 columns\n",
      "Cbc0038I Mini branch and bound did not improve solution (0.01 seconds)\n",
      "Cbc0038I Round again with cutoff of 9.29438e+07\n",
      "Cbc0038I Reduced cost fixing fixed 1 variables on major pass 2\n",
      "Cbc0038I Pass   2: suminf.    0.01822 (1) obj. 9.29438e+07 iterations 3\n",
      "Cbc0038I Pass   3: suminf.    0.24955 (1) obj. 9.29438e+07 iterations 3\n",
      "Cbc0038I Pass   4: suminf.    0.48486 (2) obj. 9.29438e+07 iterations 6\n",
      "Cbc0038I Pass   5: suminf.    0.27224 (2) obj. 9.29438e+07 iterations 1\n",
      "Cbc0038I Pass   6: suminf.    0.48486 (2) obj. 9.29438e+07 iterations 5\n",
      "Cbc0038I Pass   7: suminf.    0.27224 (2) obj. 9.29438e+07 iterations 2\n",
      "Cbc0038I Pass   8: suminf.    0.65321 (2) obj. 9.29438e+07 iterations 4\n",
      "Cbc0038I Pass   9: suminf.    0.59556 (3) obj. 9.29438e+07 iterations 1\n",
      "Cbc0038I Pass  10: suminf.    0.19070 (3) obj. 9.29438e+07 iterations 3\n",
      "Cbc0038I Pass  11: suminf.    0.16800 (2) obj. 9.29438e+07 iterations 2\n",
      "Cbc0038I Pass  12: suminf.    0.51054 (2) obj. 9.29438e+07 iterations 1\n",
      "Cbc0038I Pass  13: suminf.    0.65793 (3) obj. 9.29438e+07 iterations 2\n",
      "Cbc0038I Pass  14: suminf.    0.53323 (3) obj. 9.29438e+07 iterations 3\n",
      "Cbc0038I Pass  15: suminf.    0.51054 (2) obj. 9.29438e+07 iterations 2\n",
      "Cbc0038I Pass  16: suminf.    0.51054 (2) obj. 9.29438e+07 iterations 0\n",
      "Cbc0038I Pass  17: suminf.    0.85165 (4) obj. 9.29438e+07 iterations 3\n",
      "Cbc0038I Pass  18: suminf.    0.63412 (3) obj. 9.29438e+07 iterations 6\n",
      "Cbc0038I Pass  19: suminf.    0.41457 (2) obj. 9.29438e+07 iterations 5\n",
      "Cbc0038I Pass  20: suminf.    0.50523 (2) obj. 9.29438e+07 iterations 2\n",
      "Cbc0038I Pass  21: suminf.    0.24955 (1) obj. 9.29438e+07 iterations 3\n",
      "Cbc0038I Pass  22: suminf.    0.48486 (2) obj. 9.29438e+07 iterations 4\n",
      "Cbc0038I Pass  23: suminf.    0.27224 (2) obj. 9.29438e+07 iterations 1\n",
      "Cbc0038I Pass  24: suminf.    0.24955 (1) obj. 9.29438e+07 iterations 1\n",
      "Cbc0038I Pass  25: suminf.    0.56328 (4) obj. 9.29438e+07 iterations 6\n",
      "Cbc0038I Pass  26: suminf.    0.26707 (3) obj. 9.29438e+07 iterations 4\n",
      "Cbc0038I Pass  27: suminf.    0.85928 (3) obj. 9.29438e+07 iterations 4\n",
      "Cbc0038I Pass  28: suminf.    0.59556 (3) obj. 9.29438e+07 iterations 2\n",
      "Cbc0038I Pass  29: suminf.    0.19070 (3) obj. 9.29438e+07 iterations 3\n",
      "Cbc0038I Pass  30: suminf.    0.16800 (2) obj. 9.29438e+07 iterations 2\n",
      "Cbc0038I Pass  31: suminf.    0.63404 (2) obj. 9.29438e+07 iterations 6\n",
      "Cbc0038I No solution found this major pass\n",
      "Cbc0038I Before mini branch and bound, 2 integers at bound fixed and 15 continuous\n",
      "Cbc0038I Full problem 10 rows 35 columns, reduced to 6 rows 16 columns\n",
      "Cbc0038I Mini branch and bound improved solution from 9.3579e+07 to 9.2981e+07 (0.02 seconds)\n",
      "Cbc0038I Round again with cutoff of 9.18004e+07\n",
      "Cbc0038I Reduced cost fixing fixed 1 variables on major pass 3\n",
      "Cbc0038I Pass  31: suminf.    0.05101 (1) obj. 9.18004e+07 iterations 0\n",
      "Cbc0038I Pass  32: suminf.    0.44075 (2) obj. 9.18004e+07 iterations 3\n",
      "Cbc0038I Pass  33: suminf.    0.36833 (1) obj. 9.13101e+07 iterations 3\n",
      "Cbc0038I Pass  34: suminf.    0.36833 (1) obj. 9.13101e+07 iterations 0\n",
      "Cbc0038I Pass  35: suminf.    0.26333 (3) obj. 9.18004e+07 iterations 6\n",
      "Cbc0038I Pass  36: suminf.    0.45785 (2) obj. 9.18004e+07 iterations 4\n",
      "Cbc0038I Pass  37: suminf.    0.93518 (3) obj. 9.18004e+07 iterations 3\n",
      "Cbc0038I Pass  38: suminf.    1.12815 (4) obj. 9.18004e+07 iterations 3\n",
      "Cbc0038I Pass  39: suminf.    0.53342 (2) obj. 9.18004e+07 iterations 7\n",
      "Cbc0038I Pass  40: suminf.    0.53991 (3) obj. 9.18004e+07 iterations 3\n",
      "Cbc0038I Pass  41: suminf.    0.26333 (3) obj. 9.18004e+07 iterations 2\n",
      "Cbc0038I Pass  42: suminf.    0.53753 (4) obj. 9.18004e+07 iterations 6\n",
      "Cbc0038I Pass  43: suminf.    0.53753 (4) obj. 9.18004e+07 iterations 0\n",
      "Cbc0038I Pass  44: suminf.    0.61213 (3) obj. 9.18004e+07 iterations 2\n",
      "Cbc0038I Pass  45: suminf.    0.61213 (3) obj. 9.18004e+07 iterations 0\n",
      "Cbc0038I Pass  46: suminf.    0.20342 (3) obj. 9.18004e+07 iterations 3\n",
      "Cbc0038I Pass  47: suminf.    0.18073 (2) obj. 9.18004e+07 iterations 2\n",
      "Cbc0038I Pass  48: suminf.    0.72302 (3) obj. 9.18004e+07 iterations 5\n",
      "Cbc0038I Pass  49: suminf.    0.72302 (3) obj. 9.18004e+07 iterations 0\n",
      "Cbc0038I Pass  50: suminf.    0.59449 (3) obj. 9.18004e+07 iterations 4\n",
      "Cbc0038I Pass  51: suminf.    0.33445 (2) obj. 9.18004e+07 iterations 2\n",
      "Cbc0038I Pass  52: suminf.    0.54269 (2) obj. 9.18004e+07 iterations 1\n",
      "Cbc0038I Pass  53: suminf.    0.83729 (3) obj. 9.18004e+07 iterations 2\n",
      "Cbc0038I Pass  54: suminf.    0.37631 (3) obj. 9.18004e+07 iterations 3\n",
      "Cbc0038I Pass  55: suminf.    0.35362 (2) obj. 9.18004e+07 iterations 2\n",
      "Cbc0038I Pass  56: suminf.    0.83729 (3) obj. 9.18004e+07 iterations 2\n",
      "Cbc0038I Pass  57: suminf.    0.66034 (3) obj. 9.18004e+07 iterations 1\n",
      "Cbc0038I Pass  58: suminf.    0.33445 (2) obj. 9.18004e+07 iterations 2\n",
      "Cbc0038I Pass  59: suminf.    0.54269 (2) obj. 9.18004e+07 iterations 1\n",
      "Cbc0038I Pass  60: suminf.    0.66034 (3) obj. 9.18004e+07 iterations 1\n",
      "Cbc0038I No solution found this major pass\n",
      "Cbc0038I Before mini branch and bound, 1 integers at bound fixed and 15 continuous\n",
      "Cbc0038I Full problem 10 rows 35 columns, reduced to 7 rows 17 columns\n",
      "Cbc0038I Mini branch and bound did not improve solution (0.02 seconds)\n",
      "Cbc0038I After 0.02 seconds - Feasibility pump exiting with objective of 9.2981e+07 - took 0.01 seconds\n",
      "Cbc0012I Integer solution of 92981000 found by feasibility pump after 0 iterations and 0 nodes (0.02 seconds)\n",
      "Cbc0038I Full problem 10 rows 35 columns, reduced to 10 rows 29 columns\n",
      "Cbc0031I 3 added rows had average density of 4.3333333\n",
      "Cbc0013I At root node, 11 cuts changed objective from 87226967 to 92981000 in 2 passes\n",
      "Cbc0014I Cut generator 0 (Probing) - 2 row cuts average 2.0 elements, 0 column cuts (0 active)  in 0.000 seconds - new frequency is 1\n",
      "Cbc0014I Cut generator 1 (Gomory) - 5 row cuts average 11.4 elements, 0 column cuts (0 active)  in 0.000 seconds - new frequency is 1\n",
      "Cbc0014I Cut generator 2 (Knapsack) - 0 row cuts average 0.0 elements, 0 column cuts (0 active)  in 0.000 seconds - new frequency is -100\n",
      "Cbc0014I Cut generator 3 (Clique) - 0 row cuts average 0.0 elements, 0 column cuts (0 active)  in 0.000 seconds - new frequency is -100\n",
      "Cbc0014I Cut generator 4 (MixedIntegerRounding2) - 0 row cuts average 0.0 elements, 0 column cuts (0 active)  in 0.000 seconds - new frequency is -100\n",
      "Cbc0014I Cut generator 5 (FlowCover) - 1 row cuts average 2.0 elements, 0 column cuts (0 active)  in 0.000 seconds - new frequency is 1\n",
      "Cbc0014I Cut generator 6 (TwoMirCuts) - 5 row cuts average 4.0 elements, 0 column cuts (0 active)  in 0.000 seconds - new frequency is 1\n",
      "Cbc0001I Search completed - best objective 92981000, took 11 iterations and 0 nodes (0.02 seconds)\n",
      "Cbc0035I Maximum depth 0, 6 variables fixed on reduced cost\n",
      "Cuts at root node changed objective from 8.7227e+07 to 9.2981e+07\n",
      "Probing was tried 2 times and created 2 cuts of which 0 were active after adding rounds of cuts (0.000 seconds)\n",
      "Gomory was tried 2 times and created 5 cuts of which 0 were active after adding rounds of cuts (0.000 seconds)\n",
      "Knapsack was tried 2 times and created 0 cuts of which 0 were active after adding rounds of cuts (0.000 seconds)\n",
      "Clique was tried 2 times and created 0 cuts of which 0 were active after adding rounds of cuts (0.000 seconds)\n",
      "MixedIntegerRounding2 was tried 2 times and created 0 cuts of which 0 were active after adding rounds of cuts (0.000 seconds)\n",
      "FlowCover was tried 2 times and created 1 cuts of which 0 were active after adding rounds of cuts (0.000 seconds)\n",
      "TwoMirCuts was tried 2 times and created 5 cuts of which 0 were active after adding rounds of cuts (0.000 seconds)\n",
      "ZeroHalf was tried 1 times and created 0 cuts of which 0 were active after adding rounds of cuts (0.000 seconds)\n",
      "\n",
      "Result - Optimal solution found\n",
      "\n",
      "Objective value:                92981000.00000000\n",
      "Enumerated nodes:               0\n",
      "Total iterations:               11\n",
      "Time (CPU seconds):             0.01\n",
      "Time (Wallclock seconds):       0.03\n",
      "\n",
      "Option for printingOptions changed from normal to all\n",
      "Total time (CPU seconds):       0.01   (Wallclock seconds):       0.04\n",
      "\n",
      "Total Costs = 92,981,000 ($/Month)\n",
      "\n",
      "Status: Optimal\n",
      "('Brazil','High') = 0.0\n",
      "('Brazil','Low') = 1.0\n",
      "('Germany','High') = 0.0\n",
      "('Germany','Low') = 0.0\n",
      "('India','High') = 1.0\n",
      "('India','Low') = 0.0\n",
      "('Japan','High') = 1.0\n",
      "('Japan','Low') = 0.0\n",
      "('USA','High') = 1.0\n",
      "('USA','Low') = 0.0\n",
      "('Brazil','Brazil') = 145000.0\n",
      "('Brazil','Germany') = 0.0\n",
      "('Brazil','India') = 0.0\n",
      "('Brazil','Japan') = 0.0\n",
      "('Brazil','USA') = 0.0\n",
      "('Germany','Brazil') = 0.0\n",
      "('Germany','Germany') = 0.0\n",
      "('Germany','India') = 0.0\n",
      "('Germany','Japan') = 0.0\n",
      "('Germany','USA') = 0.0\n",
      "('India','Brazil') = 0.0\n",
      "('India','Germany') = 90000.0\n",
      "('India','India') = 160000.0\n",
      "('India','Japan') = 0.0\n",
      "('India','USA') = 1500000.0\n",
      "('Japan','Brazil') = 0.0\n",
      "('Japan','Germany') = 0.0\n",
      "('Japan','India') = 0.0\n",
      "('Japan','Japan') = 1500000.0\n",
      "('Japan','USA') = 0.0\n",
      "('USA','Brazil') = 0.0\n",
      "('USA','Germany') = 0.0\n",
      "('USA','India') = 0.0\n",
      "('USA','Japan') = 200000.0\n",
      "('USA','USA') = 1300000.0\n"
     ]
    },
    {
     "name": "stderr",
     "output_type": "stream",
     "text": [
      "/opt/conda/lib/python3.10/site-packages/pulp/pulp.py:1316: UserWarning: Spaces are not permitted in the name. Converted to '_'\n",
      "  warnings.warn(\"Spaces are not permitted in the name. Converted to '_'\")\n"
     ]
    }
   ],
   "source": [
    "# Define Decision Variables\n",
    "loc = ['USA', 'Germany', 'Japan', 'Brazil', 'India']\n",
    "size = ['Low', 'High']\n",
    "\n",
    "# Initialize Class\n",
    "model = LpProblem(\"Capacitated Plant Location Model\", LpMinimize)\n",
    "\n",
    "\n",
    "# Create Decision Variables\n",
    "x = LpVariable.dicts(\"production_\", [(i,j) for i in loc for j in loc],\n",
    "                     lowBound=0, upBound=None, cat='continuous')\n",
    "y = LpVariable.dicts(\"plant_\", \n",
    "                     [(i,s) for s in size for i in loc], cat='Binary')\n",
    "\n",
    "# Define Objective Function\n",
    "model += (lpSum([fixed_costs.loc[i,s] * y[(i,s)] * 1000 for s in size for i in loc])\n",
    "          + lpSum([variable_cost.loc[i,j] * x[(i,j)]   for i in loc for j in loc]))\n",
    "\n",
    "# Add Constraints\n",
    "for j in loc:\n",
    "    model += lpSum([x[(i, j)] for i in loc]) == demand.loc[j,'Demand']\n",
    "for i in loc:\n",
    "    model += lpSum([x[(i, j)] for j in loc]) <= lpSum([cap.loc[i,s]*y[(i,s)] * 1000\n",
    "                                                       for s in size])\n",
    "\n",
    "\n",
    "# Define logical constraint: Add a logical constraint so that if the high capacity plant in USA is open, then a low capacity plant in Germany is also opened.\n",
    "# model += y[('USA','High_Cap')] <= y[('Germany','Low_Cap')]                                                       \n",
    "                                                       \n",
    "# Solve Model\n",
    "model.solve()\n",
    "print(\"Total Costs = {:,} ($/Month)\".format(int(value(model.objective))))\n",
    "print('\\n' + \"Status: {}\".format(LpStatus[model.status]))\n",
    "\n",
    "\n",
    "# Dictionnary\n",
    "dict_plant = {}\n",
    "dict_prod = {}\n",
    "for v in model.variables():\n",
    "    if 'plant' in v.name:\n",
    "        name = v.name.replace('plant__', '').replace('_', '')\n",
    "        dict_plant[name] = int(v.varValue)\n",
    "        p_name = name\n",
    "    else:\n",
    "        name = v.name.replace('production__', '').replace('_', '')\n",
    "        dict_prod[name] = v.varValue\n",
    "    print(name, \"=\", v.varValue)"
   ]
  },
  {
   "cell_type": "markdown",
   "id": "d1476cdd",
   "metadata": {
    "papermill": {
     "duration": 0.004277,
     "end_time": "2024-02-22T19:47:23.496428",
     "exception": false,
     "start_time": "2024-02-22T19:47:23.492151",
     "status": "completed"
    },
    "tags": []
   },
   "source": [
    "# Capacity Plant"
   ]
  },
  {
   "cell_type": "code",
   "execution_count": 9,
   "id": "a2aeb4df",
   "metadata": {
    "execution": {
     "iopub.execute_input": "2024-02-22T19:47:23.508755Z",
     "iopub.status.busy": "2024-02-22T19:47:23.508278Z",
     "iopub.status.idle": "2024-02-22T19:47:23.530051Z",
     "shell.execute_reply": "2024-02-22T19:47:23.528919Z"
    },
    "papermill": {
     "duration": 0.030615,
     "end_time": "2024-02-22T19:47:23.532817",
     "exception": false,
     "start_time": "2024-02-22T19:47:23.502202",
     "status": "completed"
    },
    "tags": []
   },
   "outputs": [
    {
     "data": {
      "text/html": [
       "<div>\n",
       "<style scoped>\n",
       "    .dataframe tbody tr th:only-of-type {\n",
       "        vertical-align: middle;\n",
       "    }\n",
       "\n",
       "    .dataframe tbody tr th {\n",
       "        vertical-align: top;\n",
       "    }\n",
       "\n",
       "    .dataframe thead th {\n",
       "        text-align: right;\n",
       "    }\n",
       "</style>\n",
       "<table border=\"1\" class=\"dataframe\">\n",
       "  <thead>\n",
       "    <tr style=\"text-align: right;\">\n",
       "      <th></th>\n",
       "      <th>Low</th>\n",
       "      <th>High</th>\n",
       "    </tr>\n",
       "    <tr>\n",
       "      <th>Location</th>\n",
       "      <th></th>\n",
       "      <th></th>\n",
       "    </tr>\n",
       "  </thead>\n",
       "  <tbody>\n",
       "    <tr>\n",
       "      <th>USA</th>\n",
       "      <td>0</td>\n",
       "      <td>1</td>\n",
       "    </tr>\n",
       "    <tr>\n",
       "      <th>Germany</th>\n",
       "      <td>0</td>\n",
       "      <td>0</td>\n",
       "    </tr>\n",
       "    <tr>\n",
       "      <th>Japan</th>\n",
       "      <td>0</td>\n",
       "      <td>1</td>\n",
       "    </tr>\n",
       "    <tr>\n",
       "      <th>Brazil</th>\n",
       "      <td>1</td>\n",
       "      <td>0</td>\n",
       "    </tr>\n",
       "    <tr>\n",
       "      <th>India</th>\n",
       "      <td>0</td>\n",
       "      <td>1</td>\n",
       "    </tr>\n",
       "  </tbody>\n",
       "</table>\n",
       "</div>"
      ],
      "text/plain": [
       "          Low  High\n",
       "Location           \n",
       "USA         0     1\n",
       "Germany     0     0\n",
       "Japan       0     1\n",
       "Brazil      1     0\n",
       "India       0     1"
      ]
     },
     "execution_count": 9,
     "metadata": {},
     "output_type": "execute_result"
    }
   ],
   "source": [
    "# Capacity Plant\n",
    "list_low, list_high = [], []\n",
    "for l in loc:\n",
    "    for cap in ['Low', 'High']:\n",
    "        x = \"('{}','{}')\".format(l, cap)\n",
    "        if cap == 'Low':\n",
    "            list_low.append(dict_plant[x])\n",
    "        else:\n",
    "            list_high.append(dict_plant[x])\n",
    "df_capacity = pd.DataFrame({'Location': loc, 'Low': list_low, 'High': list_high}).set_index('Location')\n",
    "    \n",
    "df_capacity"
   ]
  }
 ],
 "metadata": {
  "kaggle": {
   "accelerator": "none",
   "dataSources": [
    {
     "datasetId": 4480820,
     "sourceId": 7680758,
     "sourceType": "datasetVersion"
    }
   ],
   "dockerImageVersionId": 30646,
   "isGpuEnabled": false,
   "isInternetEnabled": true,
   "language": "python",
   "sourceType": "notebook"
  },
  "kernelspec": {
   "display_name": "Python 3",
   "language": "python",
   "name": "python3"
  },
  "language_info": {
   "codemirror_mode": {
    "name": "ipython",
    "version": 3
   },
   "file_extension": ".py",
   "mimetype": "text/x-python",
   "name": "python",
   "nbconvert_exporter": "python",
   "pygments_lexer": "ipython3",
   "version": "3.10.13"
  },
  "papermill": {
   "default_parameters": {},
   "duration": 5.562535,
   "end_time": "2024-02-22T19:47:24.163149",
   "environment_variables": {},
   "exception": null,
   "input_path": "__notebook__.ipynb",
   "output_path": "__notebook__.ipynb",
   "parameters": {},
   "start_time": "2024-02-22T19:47:18.600614",
   "version": "2.5.0"
  }
 },
 "nbformat": 4,
 "nbformat_minor": 5
}
